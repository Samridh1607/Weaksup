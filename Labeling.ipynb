{
 "cells": [
  {
   "cell_type": "code",
   "execution_count": 1,
   "metadata": {},
   "outputs": [],
   "source": [
    "import pickle\n",
    "with open('label.pkl', 'rb') as f:\n",
    "      dt = pickle.load(f)"
   ]
  },
  {
   "cell_type": "code",
   "execution_count": 2,
   "metadata": {},
   "outputs": [],
   "source": [
    "import pandas as pd\n",
    "pd.set_option('display.max_colwidth', 1000000)"
   ]
  },
  {
   "cell_type": "code",
   "execution_count": 3,
   "metadata": {},
   "outputs": [
    {
     "data": {
      "text/html": [
       "<div>\n",
       "<style scoped>\n",
       "    .dataframe tbody tr th:only-of-type {\n",
       "        vertical-align: middle;\n",
       "    }\n",
       "\n",
       "    .dataframe tbody tr th {\n",
       "        vertical-align: top;\n",
       "    }\n",
       "\n",
       "    .dataframe thead th {\n",
       "        text-align: right;\n",
       "    }\n",
       "</style>\n",
       "<table border=\"1\" class=\"dataframe\">\n",
       "  <thead>\n",
       "    <tr style=\"text-align: right;\">\n",
       "      <th></th>\n",
       "      <th>Tweet</th>\n",
       "    </tr>\n",
       "  </thead>\n",
       "  <tbody>\n",
       "    <tr>\n",
       "      <td>0</td>\n",
       "      <td>hell yeah trump got impeached looks like he is finally out of office deletes tweet minutes later wow none of you know what impeachment means the senate still has to vote before he is removed from office go take a college course</td>\n",
       "    </tr>\n",
       "    <tr>\n",
       "      <td>1</td>\n",
       "      <td>breaking news trump is committing felony bribery by giving fundraising cash to gop senators ahead of impeachment trial this can not be ignored</td>\n",
       "    </tr>\n",
       "    <tr>\n",
       "      <td>2</td>\n",
       "      <td>help me here I am being sincere this is still your guy forget the news source forget that this part of a pattern forget the lies the bluster forget the impeachment stuff I am curious why you are still behind someone who consistently behaves like this help me</td>\n",
       "    </tr>\n",
       "    <tr>\n",
       "      <td>3</td>\n",
       "      <td>i hate to break the news to the resistance but you have zero leverage you can keep your partisan impeachment articles as long as you want senate will just keep confirming judges approving trade deals doing the peoples business</td>\n",
       "    </tr>\n",
       "    <tr>\n",
       "      <td>4</td>\n",
       "      <td>impeachment should not be a happy thing it should be a somber time this is sick and proves what the republicicans have been saying all along impeachment notmyimpeachment trump landslide</td>\n",
       "    </tr>\n",
       "    <tr>\n",
       "      <td>...</td>\n",
       "      <td>...</td>\n",
       "    </tr>\n",
       "    <tr>\n",
       "      <td>486135</td>\n",
       "      <td>you all help me out by following my beautiful wife of over years deb is back to support she does fo</td>\n",
       "    </tr>\n",
       "    <tr>\n",
       "      <td>486136</td>\n",
       "      <td>christianity today s editorial board decided to play judge jury on potus based on a partisan impeachment i do not al</td>\n",
       "    </tr>\n",
       "    <tr>\n",
       "      <td>486137</td>\n",
       "      <td>the fulani jihadist in nigeria financed hillary clinton against trump they failed then they sent a sudanese impostor robot</td>\n",
       "    </tr>\n",
       "    <tr>\n",
       "      <td>486138</td>\n",
       "      <td>in my view moscowmitch is a f ing ruble loving coward the sniveling baby would do anything to keep his little j</td>\n",
       "    </tr>\n",
       "    <tr>\n",
       "      <td>486139</td>\n",
       "      <td>megyn kelly says trump s impeachment trial is rigged in new documentary</td>\n",
       "    </tr>\n",
       "  </tbody>\n",
       "</table>\n",
       "<p>486140 rows × 1 columns</p>\n",
       "</div>"
      ],
      "text/plain": [
       "                                                                                                                                                                                                                                                                     Tweet\n",
       "0                                      hell yeah trump got impeached looks like he is finally out of office deletes tweet minutes later wow none of you know what impeachment means the senate still has to vote before he is removed from office go take a college course\n",
       "1                                                                                                                           breaking news trump is committing felony bribery by giving fundraising cash to gop senators ahead of impeachment trial this can not be ignored\n",
       "2       help me here I am being sincere this is still your guy forget the news source forget that this part of a pattern forget the lies the bluster forget the impeachment stuff I am curious why you are still behind someone who consistently behaves like this help me\n",
       "3                                       i hate to break the news to the resistance but you have zero leverage you can keep your partisan impeachment articles as long as you want senate will just keep confirming judges approving trade deals doing the peoples business\n",
       "4                                                                                impeachment should not be a happy thing it should be a somber time this is sick and proves what the republicicans have been saying all along impeachment notmyimpeachment trump landslide\n",
       "...                                                                                                                                                                                                                                                                    ...\n",
       "486135                                                                                                                                                                 you all help me out by following my beautiful wife of over years deb is back to support she does fo\n",
       "486136                                                                                                                                                christianity today s editorial board decided to play judge jury on potus based on a partisan impeachment i do not al\n",
       "486137                                                                                                                                          the fulani jihadist in nigeria financed hillary clinton against trump they failed then they sent a sudanese impostor robot\n",
       "486138                                                                                                                                                     in my view moscowmitch is a f ing ruble loving coward the sniveling baby would do anything to keep his little j\n",
       "486139                                                                                                                                                                                             megyn kelly says trump s impeachment trial is rigged in new documentary\n",
       "\n",
       "[486140 rows x 1 columns]"
      ]
     },
     "execution_count": 3,
     "metadata": {},
     "output_type": "execute_result"
    }
   ],
   "source": [
    "dt"
   ]
  },
  {
   "cell_type": "code",
   "execution_count": 4,
   "metadata": {},
   "outputs": [],
   "source": [
    "# Module 2 (Label this data)\n",
    "# Use snorkel\n",
    "from snorkel.labeling import labeling_function\n",
    "from snorkel.preprocess import preprocessor\n",
    "import re\n",
    "from textblob import TextBlob  "
   ]
  },
  {
   "cell_type": "code",
   "execution_count": 5,
   "metadata": {},
   "outputs": [],
   "source": [
    "# Create labelling function based on words in the corpus\n",
    "from snorkel.labeling import LabelingFunction\n",
    "PWORDS = r\"\"\"\\b(notmyimpeachment|do not impeach|meaningless impeachment|unfair|fair trial|not enough evidence|miss conduct|delay trial|fake impeachment)\"\"\"\n",
    "def pos(sample):\n",
    "        return 1 if re.search(PWORDS, str(sample)) else -1\n",
    "\n",
    "NWORDS = r\"\\b(hell yeah|bribery|not happy|less moral|impeach trump|impeach our president)\"\n",
    "def neg(sample):\n",
    "    return 0 if re.search(NWORDS, str(sample)) else -1"
   ]
  },
  {
   "cell_type": "code",
   "execution_count": 6,
   "metadata": {},
   "outputs": [],
   "source": [
    "positive = LabelingFunction(f\"positive\", f=pos)"
   ]
  },
  {
   "cell_type": "code",
   "execution_count": 7,
   "metadata": {},
   "outputs": [],
   "source": [
    "negative = LabelingFunction(f\"negative\", f=neg)"
   ]
  },
  {
   "cell_type": "code",
   "execution_count": 8,
   "metadata": {},
   "outputs": [],
   "source": [
    "df_train = dt[0:450000]"
   ]
  },
  {
   "cell_type": "code",
   "execution_count": 9,
   "metadata": {},
   "outputs": [],
   "source": [
    "# Create the labeling functions using the textblob sentiment analyzer\n",
    "@preprocessor(memoize=True)\n",
    "def textblob_polarity(x):\n",
    "    scores = TextBlob(x.Tweet)\n",
    "    x.polarity = scores.polarity\n",
    "    return x\n",
    "\n",
    "\n",
    "# Label high polarity tweets as positive.\n",
    "@labeling_function(pre=[textblob_polarity])\n",
    "def polarity_positive(x):\n",
    "    return 1 if x.polarity > 0.2 else -1\n",
    "\n",
    "\n",
    "# Label low polarity tweets as negative.\n",
    "@labeling_function(pre=[textblob_polarity])\n",
    "def polarity_negative(x):\n",
    "    return 0 if x.polarity < -0.25 else -1\n",
    "\n",
    "\n",
    "# Similar to polarity_negative, but with higher coverage and lower precision.\n",
    "@labeling_function(pre=[textblob_polarity])\n",
    "def polarity_negative_2(x):\n",
    "    return 0 if x.polarity <= 0.2 else -1\n"
   ]
  },
  {
   "cell_type": "code",
   "execution_count": 10,
   "metadata": {},
   "outputs": [
    {
     "name": "stderr",
     "output_type": "stream",
     "text": [
      "/home/seiryu/anaconda3/lib/python3.7/site-packages/tqdm/std.py:648: FutureWarning: The Panel class is removed from pandas. Accessing it from the top-level namespace will also be removed in the next version\n",
      "  from pandas import Panel\n",
      "100%|██████████| 450000/450000 [07:15<00:00, 1033.28it/s]\n"
     ]
    }
   ],
   "source": [
    "from snorkel.labeling import PandasLFApplier\n",
    "wlfs = [positive,negative]\n",
    "blob_lfs = [polarity_positive, polarity_negative,polarity_negative_2]\n",
    "lfs = wlfs + blob_lfs \n",
    "applier = PandasLFApplier(lfs)\n",
    "L_train = applier.apply(df_train)"
   ]
  },
  {
   "cell_type": "code",
   "execution_count": 11,
   "metadata": {},
   "outputs": [
    {
     "data": {
      "text/html": [
       "<div>\n",
       "<style scoped>\n",
       "    .dataframe tbody tr th:only-of-type {\n",
       "        vertical-align: middle;\n",
       "    }\n",
       "\n",
       "    .dataframe tbody tr th {\n",
       "        vertical-align: top;\n",
       "    }\n",
       "\n",
       "    .dataframe thead th {\n",
       "        text-align: right;\n",
       "    }\n",
       "</style>\n",
       "<table border=\"1\" class=\"dataframe\">\n",
       "  <thead>\n",
       "    <tr style=\"text-align: right;\">\n",
       "      <th></th>\n",
       "      <th>j</th>\n",
       "      <th>Polarity</th>\n",
       "      <th>Coverage</th>\n",
       "      <th>Overlaps</th>\n",
       "      <th>Conflicts</th>\n",
       "    </tr>\n",
       "  </thead>\n",
       "  <tbody>\n",
       "    <tr>\n",
       "      <td>positive</td>\n",
       "      <td>0</td>\n",
       "      <td>[1]</td>\n",
       "      <td>0.020802</td>\n",
       "      <td>0.020802</td>\n",
       "      <td>0.014662</td>\n",
       "    </tr>\n",
       "    <tr>\n",
       "      <td>negative</td>\n",
       "      <td>1</td>\n",
       "      <td>[0]</td>\n",
       "      <td>0.017293</td>\n",
       "      <td>0.017293</td>\n",
       "      <td>0.001549</td>\n",
       "    </tr>\n",
       "    <tr>\n",
       "      <td>polarity_positive</td>\n",
       "      <td>2</td>\n",
       "      <td>[1]</td>\n",
       "      <td>0.168544</td>\n",
       "      <td>0.007593</td>\n",
       "      <td>0.001453</td>\n",
       "    </tr>\n",
       "    <tr>\n",
       "      <td>polarity_negative</td>\n",
       "      <td>3</td>\n",
       "      <td>[0]</td>\n",
       "      <td>0.092987</td>\n",
       "      <td>0.092987</td>\n",
       "      <td>0.004331</td>\n",
       "    </tr>\n",
       "    <tr>\n",
       "      <td>polarity_negative_2</td>\n",
       "      <td>4</td>\n",
       "      <td>[0]</td>\n",
       "      <td>0.831456</td>\n",
       "      <td>0.117869</td>\n",
       "      <td>0.014636</td>\n",
       "    </tr>\n",
       "  </tbody>\n",
       "</table>\n",
       "</div>"
      ],
      "text/plain": [
       "                     j Polarity  Coverage  Overlaps  Conflicts\n",
       "positive             0      [1]  0.020802  0.020802   0.014662\n",
       "negative             1      [0]  0.017293  0.017293   0.001549\n",
       "polarity_positive    2      [1]  0.168544  0.007593   0.001453\n",
       "polarity_negative    3      [0]  0.092987  0.092987   0.004331\n",
       "polarity_negative_2  4      [0]  0.831456  0.117869   0.014636"
      ]
     },
     "execution_count": 11,
     "metadata": {},
     "output_type": "execute_result"
    }
   ],
   "source": [
    "# Analyse the coverage and accuracy\n",
    "from snorkel.labeling import LFAnalysis\n",
    "LFAnalysis(L=L_train, lfs=lfs).lf_summary()"
   ]
  },
  {
   "cell_type": "code",
   "execution_count": 12,
   "metadata": {},
   "outputs": [
    {
     "name": "stdout",
     "output_type": "stream",
     "text": [
      "Training set coverage:  100.0%\n"
     ]
    }
   ],
   "source": [
    "print(f\"Training set coverage: {100 * LFAnalysis(L_train).label_coverage(): 0.001f}%\")"
   ]
  },
  {
   "cell_type": "code",
   "execution_count": 13,
   "metadata": {},
   "outputs": [],
   "source": [
    "from snorkel.labeling import LabelModel\n",
    "\n",
    "# Train LabelModel.\n",
    "label_model = LabelModel(cardinality=2, verbose=True)\n",
    "label_model.fit(L_train, n_epochs=150, seed=125, log_freq=30, l2=0.1, lr=0.01)"
   ]
  },
  {
   "cell_type": "code",
   "execution_count": 14,
   "metadata": {},
   "outputs": [],
   "source": [
    "label = label_model.predict(L_train)"
   ]
  },
  {
   "cell_type": "code",
   "execution_count": 15,
   "metadata": {},
   "outputs": [
    {
     "data": {
      "text/plain": [
       "array([0, 0, 0, 1, 1, 0, 0, 0, 1, 0, 0, 1, 0, 0, 0, 1, 0, 0, 0, 1, 1, 1,\n",
       "       0, 0, 0, 0, 0, 0, 0, 0, 0, 0, 1, 0, 1, 0, 1, 0, 0, 0, 0, 0, 0, 0,\n",
       "       1, 0, 0, 0, 0, 0, 1, 0, 0, 0, 0, 0, 1, 0, 0, 0, 0, 0, 0, 0, 0, 0,\n",
       "       1, 0, 0, 0, 0, 0, 0, 0, 0, 1, 0, 1, 1, 0, 0, 0, 0, 0, 0, 0, 0, 0,\n",
       "       1, 0, 0, 0, 0, 0, 0, 0, 0, 0, 0])"
      ]
     },
     "execution_count": 15,
     "metadata": {},
     "output_type": "execute_result"
    }
   ],
   "source": [
    "label[1:100]"
   ]
  },
  {
   "cell_type": "code",
   "execution_count": 16,
   "metadata": {},
   "outputs": [],
   "source": [
    "with open('flabel.pkl', 'wb') as f:\n",
    "     pickle.dump(label, f)"
   ]
  },
  {
   "cell_type": "code",
   "execution_count": null,
   "metadata": {},
   "outputs": [],
   "source": []
  }
 ],
 "metadata": {
  "kernelspec": {
   "display_name": "Python 3",
   "language": "python",
   "name": "python3"
  },
  "language_info": {
   "codemirror_mode": {
    "name": "ipython",
    "version": 3
   },
   "file_extension": ".py",
   "mimetype": "text/x-python",
   "name": "python",
   "nbconvert_exporter": "python",
   "pygments_lexer": "ipython3",
   "version": "3.7.4"
  }
 },
 "nbformat": 4,
 "nbformat_minor": 2
}
