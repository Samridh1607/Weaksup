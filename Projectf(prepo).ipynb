{
  "nbformat": 4,
  "nbformat_minor": 0,
  "metadata": {
    "colab": {
      "name": "Projectf(prepo)",
      "provenance": [],
      "collapsed_sections": [],
      "toc_visible": true,
      "machine_shape": "hm"
    },
    "kernelspec": {
      "name": "python3",
      "display_name": "Python 3"
    },
    "accelerator": "TPU"
  },
  "cells": [
    {
      "cell_type": "code",
      "metadata": {
        "id": "RCO2nkKH7rvY",
        "colab_type": "code",
        "outputId": "94e205de-0d11-4d5f-9c49-3ed12a80a799",
        "colab": {
          "base_uri": "https://localhost:8080/",
          "height": 55
        }
      },
      "source": [
        "from google.colab import drive\n",
        "drive.mount('/content/drive')"
      ],
      "execution_count": 0,
      "outputs": [
        {
          "output_type": "stream",
          "text": [
            "Drive already mounted at /content/drive; to attempt to forcibly remount, call drive.mount(\"/content/drive\", force_remount=True).\n"
          ],
          "name": "stdout"
        }
      ]
    },
    {
      "cell_type": "code",
      "metadata": {
        "id": "yUD4sV6DdJ16",
        "colab_type": "code",
        "colab": {}
      },
      "source": [
        "import json\n",
        "tweets = []\n",
        "for line in open('/content/drive/My Drive/Colab Notebooks/trump.json', 'r'):\n",
        "    #print(line)\n",
        "    tweets.append(line)"
      ],
      "execution_count": 0,
      "outputs": []
    },
    {
      "cell_type": "code",
      "metadata": {
        "id": "0Cw7H30y-H-F",
        "colab_type": "code",
        "outputId": "1cb589e8-0a7e-4c97-d44b-3e23e485a28e",
        "colab": {
          "base_uri": "https://localhost:8080/",
          "height": 35
        }
      },
      "source": [
        "len(tweets)"
      ],
      "execution_count": 0,
      "outputs": [
        {
          "output_type": "execute_result",
          "data": {
            "text/plain": [
              "1186564"
            ]
          },
          "metadata": {
            "tags": []
          },
          "execution_count": 59
        }
      ]
    },
    {
      "cell_type": "code",
      "metadata": {
        "id": "3mlBXY3z-IPf",
        "colab_type": "code",
        "colab": {}
      },
      "source": [
        "l=[]\n",
        "for i in range(0,len(tweets),2):\n",
        "    l.append(json.loads(tweets[i]))"
      ],
      "execution_count": 0,
      "outputs": []
    },
    {
      "cell_type": "code",
      "metadata": {
        "id": "MEGvEWY1-Igt",
        "colab_type": "code",
        "outputId": "f1d8d3bc-ea25-46a0-fd77-72fa2a758fba",
        "colab": {
          "base_uri": "https://localhost:8080/",
          "height": 35
        }
      },
      "source": [
        "len(l)"
      ],
      "execution_count": 0,
      "outputs": [
        {
          "output_type": "execute_result",
          "data": {
            "text/plain": [
              "593282"
            ]
          },
          "metadata": {
            "tags": []
          },
          "execution_count": 61
        }
      ]
    },
    {
      "cell_type": "code",
      "metadata": {
        "id": "x5a_dN69-Ixt",
        "colab_type": "code",
        "colab": {}
      },
      "source": [
        "#create list for text column:\n",
        "a  = []\n",
        "for i in range(0,len(l)) :\n",
        "     a.append(l[i]['text'])\n",
        "      \n",
        "    \n",
        "#all the tweets in short form are stored in a list called a"
      ],
      "execution_count": 0,
      "outputs": []
    },
    {
      "cell_type": "code",
      "metadata": {
        "id": "zsY-cW6_-JCw",
        "colab_type": "code",
        "colab": {}
      },
      "source": [
        "b1 = []\n",
        "b2 = []\n",
        "for i in range(0,len(l)) :\n",
        "    if len(l[i]['text'])==140:\n",
        "        if 'retweeted_status' in l[i].keys() and 'extended_tweet' in l[i]['retweeted_status'].keys() and 'full_text' in l[i]['retweeted_status']['extended_tweet'].keys() :\n",
        "            b1.append((l[i]['retweeted_status']['extended_tweet']['full_text']))\n",
        "    else :\n",
        "        b2.append(l[i]['text'])\n",
        "        "
      ],
      "execution_count": 0,
      "outputs": []
    },
    {
      "cell_type": "code",
      "metadata": {
        "id": "O8wT8A2n-JUG",
        "colab_type": "code",
        "colab": {}
      },
      "source": [
        "#final list which contains the tweets\n",
        "f = []\n",
        "f = b1 + b2"
      ],
      "execution_count": 0,
      "outputs": []
    },
    {
      "cell_type": "code",
      "metadata": {
        "id": "lzbyMy_c-Jji",
        "colab_type": "code",
        "outputId": "b49c34e3-dcda-47ce-9c78-98fee72526ba",
        "colab": {
          "base_uri": "https://localhost:8080/",
          "height": 35
        }
      },
      "source": [
        "len(f)"
      ],
      "execution_count": 0,
      "outputs": [
        {
          "output_type": "execute_result",
          "data": {
            "text/plain": [
              "530750"
            ]
          },
          "metadata": {
            "tags": []
          },
          "execution_count": 65
        }
      ]
    },
    {
      "cell_type": "code",
      "metadata": {
        "id": "u5ltjfBv-J0T",
        "colab_type": "code",
        "colab": {}
      },
      "source": [
        "# Module 1 (Preprocessing)\n",
        "# Import the necesary libraries\n",
        "import re, string, unicodedata\n",
        "import nltk\n",
        "from nltk import word_tokenize, sent_tokenize\n",
        "from nltk.corpus import stopwords\n",
        "from nltk.stem import WordNetLemmatizer\n",
        "import contractions\n",
        "from langdetect import detect\n",
        "import pandas as pd"
      ],
      "execution_count": 0,
      "outputs": []
    },
    {
      "cell_type": "code",
      "metadata": {
        "id": "qKutT0mH-KVU",
        "colab_type": "code",
        "colab": {}
      },
      "source": [
        "# 1) Remove URL from the tweet set\n",
        "def remove_URL(sample):\n",
        "    return re.sub(r\"http\\S+\", \" \", sample)\n"
      ],
      "execution_count": 0,
      "outputs": []
    },
    {
      "cell_type": "code",
      "metadata": {
        "id": "CzOsM5RH-Kmk",
        "colab_type": "code",
        "colab": {}
      },
      "source": [
        "rurl = []\n",
        "for i in range(0,len(f)) :\n",
        "    rurl.append(remove_URL(f[i]))\n",
        "\n",
        "# rurl contains the the tweets without a (i) URL"
      ],
      "execution_count": 0,
      "outputs": []
    },
    {
      "cell_type": "code",
      "metadata": {
        "id": "jW0DXrad-K1G",
        "colab_type": "code",
        "colab": {}
      },
      "source": [
        "# 2) Remove the user names mentioned in the tweet\n",
        "def remove_name(sample) :\n",
        "    return re.sub(r\"RT[^\\S]@\\S+\", \" \",sample)"
      ],
      "execution_count": 0,
      "outputs": []
    },
    {
      "cell_type": "code",
      "metadata": {
        "id": "VYMScnDs-LER",
        "colab_type": "code",
        "colab": {}
      },
      "source": [
        "rname = []\n",
        "for i in range(0,len(rurl)) :\n",
        "    rname.append(remove_name(rurl[i]))\n",
        "    \n",
        " # rname contains tweets without a (i) URL (ii) Retweeted user name."
      ],
      "execution_count": 0,
      "outputs": []
    },
    {
      "cell_type": "code",
      "metadata": {
        "id": "J9KzOa_gJEwD",
        "colab_type": "code",
        "colab": {}
      },
      "source": [
        "# 3) Conversion of uppercase words to lowercase form\n",
        "def lowercase(sample):\n",
        "    for word in sample:\n",
        "        return sample.lower() "
      ],
      "execution_count": 0,
      "outputs": []
    },
    {
      "cell_type": "code",
      "metadata": {
        "id": "wrS4-7aG-LT0",
        "colab_type": "code",
        "colab": {}
      },
      "source": [
        "lcase = []\n",
        "for i in range(0,len(f)) :\n",
        "    lcase.append(lowercase(rname[i]))\n",
        "    \n",
        "# lcase contains tweets without a (i) URL (ii) Retweted user name  (iii) Uppercase words"
      ],
      "execution_count": 0,
      "outputs": []
    },
    {
      "cell_type": "code",
      "metadata": {
        "id": "5Y_aGZYhJGYH",
        "colab_type": "code",
        "colab": {}
      },
      "source": [
        "# Remove the null values from the list created due to removal of empty links\n",
        "lcase  = list(filter(None, lcase)) "
      ],
      "execution_count": 0,
      "outputs": []
    },
    {
      "cell_type": "code",
      "metadata": {
        "id": "OPO1qn1kJGqV",
        "colab_type": "code",
        "outputId": "a19ee8c6-d769-4f4a-8e72-61fc22d6f1a3",
        "colab": {
          "base_uri": "https://localhost:8080/",
          "height": 109
        }
      },
      "source": [
        "pip install contractions\n"
      ],
      "execution_count": 0,
      "outputs": [
        {
          "output_type": "stream",
          "text": [
            "Requirement already satisfied: contractions in /usr/local/lib/python3.6/dist-packages (0.0.24)\n",
            "Requirement already satisfied: textsearch in /usr/local/lib/python3.6/dist-packages (from contractions) (0.0.17)\n",
            "Requirement already satisfied: Unidecode in /usr/local/lib/python3.6/dist-packages (from textsearch->contractions) (1.1.1)\n",
            "Requirement already satisfied: pyahocorasick in /usr/local/lib/python3.6/dist-packages (from textsearch->contractions) (1.4.0)\n"
          ],
          "name": "stdout"
        }
      ]
    },
    {
      "cell_type": "code",
      "metadata": {
        "id": "SeVHgxEZJG5u",
        "colab_type": "code",
        "colab": {}
      },
      "source": [
        "# 4) Replace contractions\n",
        "\n",
        "def r_contract(sample) :\n",
        "    return contractions.fix(sample)\n"
      ],
      "execution_count": 0,
      "outputs": []
    },
    {
      "cell_type": "code",
      "metadata": {
        "id": "vECKSBKgJHHh",
        "colab_type": "code",
        "colab": {}
      },
      "source": [
        "rcont = []\n",
        "for i in range(0,len(lcase)) :\n",
        "    rcont.append(r_contract(lcase[i]))\n",
        "\n",
        "# Before this step null values from the list were removed\n",
        "# rcont contains the tweets without a (i) URL (ii) Retweeted user name (iii) Uppercase words (iv) Contractions"
      ],
      "execution_count": 0,
      "outputs": []
    },
    {
      "cell_type": "code",
      "metadata": {
        "id": "vi4mspt_JHU7",
        "colab_type": "code",
        "colab": {}
      },
      "source": [
        "# 5) Remove the user names mentioned in the tweets\n",
        "def remove_name2(sample) :\n",
        "    return re.sub(r\"@\\S+\", \" \",sample)"
      ],
      "execution_count": 0,
      "outputs": []
    },
    {
      "cell_type": "code",
      "metadata": {
        "id": "hZWso5ahJHib",
        "colab_type": "code",
        "colab": {}
      },
      "source": [
        "r5 = []\n",
        "for i in range(0,len(rcont)) :\n",
        "    r5.append(remove_name2(rcont[i]))\n",
        "    \n",
        "# r5 contains the tweets without a (i) URL (ii)Retweeted user name (iii) Uppercase words (iv) Contractions (v) User names "
      ],
      "execution_count": 0,
      "outputs": []
    },
    {
      "cell_type": "code",
      "metadata": {
        "id": "WpCsAK4oJHv9",
        "colab_type": "code",
        "colab": {}
      },
      "source": [
        "# 6) Remove the \\n character\n",
        "def remove_nl(sample) :\n",
        "    return re.sub(r\"\\n\", \" \",sample)"
      ],
      "execution_count": 0,
      "outputs": []
    },
    {
      "cell_type": "code",
      "metadata": {
        "id": "2mSBAaxSJH9_",
        "colab_type": "code",
        "colab": {}
      },
      "source": [
        "r4 = []\n",
        "for i in range(0,len(r5)) :\n",
        "    r4.append(remove_nl(r5[i]))\n",
        "# r4 contains the tweets without a (i) URL (ii)Retweeted user name (iii) Uppercase words (iv) Contractions (v) User names (vi) \\n character "
      ],
      "execution_count": 0,
      "outputs": []
    },
    {
      "cell_type": "code",
      "metadata": {
        "id": "_FEm88T2JINZ",
        "colab_type": "code",
        "colab": {}
      },
      "source": [
        "#7) Remove # from the hashtags mentioned in the tweet\n",
        "def remove_hash(sample) :\n",
        "    return re.sub(r\"#\", \" \",sample)"
      ],
      "execution_count": 0,
      "outputs": []
    },
    {
      "cell_type": "code",
      "metadata": {
        "id": "xkpaZL13JIcd",
        "colab_type": "code",
        "colab": {}
      },
      "source": [
        "r3 = []\n",
        "for i in range(0,len(r4)) :\n",
        "    r3.append(remove_hash(r4[i]))\n",
        "# r3 contains the tweets without a (i) URL (ii)Retweeted user name (iii) Uppercase words (iv) Contractions (v) User names "
      ],
      "execution_count": 0,
      "outputs": []
    },
    {
      "cell_type": "code",
      "metadata": {
        "id": "ukKgwVjPJIqp",
        "colab_type": "code",
        "colab": {}
      },
      "source": [
        "# 8) Remove the non-ascii characters eg, \\u206 and emoticons etc.\n",
        "def remove_nascii(sample) :\n",
        "    return unicodedata.normalize('NFKD', sample).encode('ascii', 'ignore').decode('utf-8', 'ignore')"
      ],
      "execution_count": 0,
      "outputs": []
    },
    {
      "cell_type": "code",
      "metadata": {
        "id": "OZAEZinGJI4p",
        "colab_type": "code",
        "colab": {}
      },
      "source": [
        "r2 = []\n",
        "for i in range(0,len(r3)) :\n",
        "    r2.append(remove_nascii(r3[i]))\n",
        "# r2 contains the tweets without a (i) URL (ii) Retweeted user name (iii) Uppercase words (iv) Contractions (v) User names (vi) \\n "
      ],
      "execution_count": 0,
      "outputs": []
    },
    {
      "cell_type": "code",
      "metadata": {
        "id": "gJrtZqGcJJGf",
        "colab_type": "code",
        "colab": {}
      },
      "source": [
        "# 9) Remove &amp sign from the tweets\n",
        "def remove_amp(sample) :\n",
        "    return re.sub(r\"&amp\", \" \",sample)"
      ],
      "execution_count": 0,
      "outputs": []
    },
    {
      "cell_type": "code",
      "metadata": {
        "id": "G-tHE6JbJJVp",
        "colab_type": "code",
        "colab": {}
      },
      "source": [
        "r1 = []\n",
        "for i in range(0,len(r2)) :\n",
        "    r1.append(remove_amp(r2[i]))\n",
        "    \n",
        "# r1 contains the tweets without a (i) URL (ii) Retweeted user name (iii) Uppercase words (iv) Contractions (v) User names (vi) \\n character (vii) Hash symbol (viii) Non-ascii characters (ix) &amp   "
      ],
      "execution_count": 0,
      "outputs": []
    },
    {
      "cell_type": "code",
      "metadata": {
        "id": "R7GKb2wNJJjz",
        "colab_type": "code",
        "colab": {}
      },
      "source": [
        "# Remove comma\n",
        "def remove_comma(sample) :\n",
        "    return re.sub(r\",\", \" \",sample)"
      ],
      "execution_count": 0,
      "outputs": []
    },
    {
      "cell_type": "code",
      "metadata": {
        "id": "-w_8bx4PJJz8",
        "colab_type": "code",
        "colab": {}
      },
      "source": [
        "rc = []\n",
        "for i in range(0,len(r1)) :\n",
        "    rc.append(remove_comma(r1[i]))"
      ],
      "execution_count": 0,
      "outputs": []
    },
    {
      "cell_type": "code",
      "metadata": {
        "id": "jli4QtNVJKFb",
        "colab_type": "code",
        "colab": {}
      },
      "source": [
        "# Remove colon :\n",
        "def remove_colon(sample) :\n",
        "    return re.sub(r\":\", \" \",sample)"
      ],
      "execution_count": 0,
      "outputs": []
    },
    {
      "cell_type": "code",
      "metadata": {
        "id": "JksxINvJJKUD",
        "colab_type": "code",
        "colab": {}
      },
      "source": [
        "rco = []\n",
        "for i in range(0,len(rc)) :\n",
        "    rco.append(remove_colon(rc[i]))"
      ],
      "execution_count": 0,
      "outputs": []
    },
    {
      "cell_type": "code",
      "metadata": {
        "id": "jfKYhW2BJKh1",
        "colab_type": "code",
        "colab": {}
      },
      "source": [
        "# Remove semi-colon\n",
        "def remove_scolon(sample):\n",
        "    return re.sub(r\";\", \" \",sample)"
      ],
      "execution_count": 0,
      "outputs": []
    },
    {
      "cell_type": "code",
      "metadata": {
        "id": "x35Sx6FfJK5J",
        "colab_type": "code",
        "colab": {}
      },
      "source": [
        "rsco = []\n",
        "for i in range(0,len(rco)) :\n",
        "    rsco.append(remove_scolon(rco[i]))"
      ],
      "execution_count": 0,
      "outputs": []
    },
    {
      "cell_type": "code",
      "metadata": {
        "id": "99kW__vuLJ11",
        "colab_type": "code",
        "colab": {}
      },
      "source": [
        "# Remove exclamation mark\n",
        "def remove_ex(sample) :\n",
        "    return re.sub(r\"!\", \" \",sample)"
      ],
      "execution_count": 0,
      "outputs": []
    },
    {
      "cell_type": "code",
      "metadata": {
        "id": "x1mOWswBLKGL",
        "colab_type": "code",
        "colab": {}
      },
      "source": [
        "rex = []\n",
        "for i in range(0,len(rsco)):\n",
        "    rex.append(remove_ex(rsco[i]))"
      ],
      "execution_count": 0,
      "outputs": []
    },
    {
      "cell_type": "code",
      "metadata": {
        "id": "s8eVxV7JLKWT",
        "colab_type": "code",
        "colab": {}
      },
      "source": [
        "# Remove quotes\n",
        "def remove_q(sample):\n",
        "    return re.sub(r\"'\", \" \",sample)"
      ],
      "execution_count": 0,
      "outputs": []
    },
    {
      "cell_type": "code",
      "metadata": {
        "id": "yfN-LEUhLKk3",
        "colab_type": "code",
        "colab": {}
      },
      "source": [
        "rq = []\n",
        "for i in range(0,len(rex)):\n",
        "    rq.append(remove_q(rex[i]))"
      ],
      "execution_count": 0,
      "outputs": []
    },
    {
      "cell_type": "code",
      "metadata": {
        "id": "xVzD0byGLKy5",
        "colab_type": "code",
        "colab": {}
      },
      "source": [
        "# Remove double quotes\n",
        "def remove_dq(sample):\n",
        "    return re.sub(r'\"', ' ',sample)"
      ],
      "execution_count": 0,
      "outputs": []
    },
    {
      "cell_type": "code",
      "metadata": {
        "id": "RYw1GB16LLC5",
        "colab_type": "code",
        "colab": {}
      },
      "source": [
        "dq = []\n",
        "for i in range(0,len(rq)):\n",
        "    dq.append(remove_dq(rq[i]))"
      ],
      "execution_count": 0,
      "outputs": []
    },
    {
      "cell_type": "code",
      "metadata": {
        "id": "5CuF2YTOLLST",
        "colab_type": "code",
        "colab": {}
      },
      "source": [
        "# Remove full stop\n",
        "def remove_fs(sample):\n",
        "    return re.sub(r\"\\.\", \" \",sample)"
      ],
      "execution_count": 0,
      "outputs": []
    },
    {
      "cell_type": "code",
      "metadata": {
        "id": "sR8hPhskLLh9",
        "colab_type": "code",
        "colab": {}
      },
      "source": [
        "fs = []\n",
        "for i in range(0,len(dq)):\n",
        "    fs.append(remove_fs(dq[i]))"
      ],
      "execution_count": 0,
      "outputs": []
    },
    {
      "cell_type": "code",
      "metadata": {
        "id": "5umi6qjcLLxn",
        "colab_type": "code",
        "colab": {}
      },
      "source": [
        "# Remove question mark\n",
        "def remove_qm(sample):\n",
        "    return re.sub(r\"\\?\", \" \",sample)"
      ],
      "execution_count": 0,
      "outputs": []
    },
    {
      "cell_type": "code",
      "metadata": {
        "id": "f840iWtSLL_3",
        "colab_type": "code",
        "colab": {}
      },
      "source": [
        "qm = []\n",
        "for i in range(0,len(fs)):\n",
        "    qm.append(remove_qm(fs[i]))"
      ],
      "execution_count": 0,
      "outputs": []
    },
    {
      "cell_type": "code",
      "metadata": {
        "id": "Yclk6aqSLMN7",
        "colab_type": "code",
        "colab": {}
      },
      "source": [
        "# Remove asterisk\n",
        "def remove_ast(sample):\n",
        "    return re.sub(r\"\\*\", \" \",sample)"
      ],
      "execution_count": 0,
      "outputs": []
    },
    {
      "cell_type": "code",
      "metadata": {
        "id": "vRrI07TDLMav",
        "colab_type": "code",
        "colab": {}
      },
      "source": [
        "ra = []\n",
        "for i in range(0,len(qm)) :\n",
        "    ra.append(remove_ast(qm[i]))"
      ],
      "execution_count": 0,
      "outputs": []
    },
    {
      "cell_type": "code",
      "metadata": {
        "id": "gKBbBGsuLNGH",
        "colab_type": "code",
        "colab": {}
      },
      "source": [
        "# Remove numeric characters\n",
        "def remove_num(sample):\n",
        "    return re.sub(r'\\d+', ' ',sample)"
      ],
      "execution_count": 0,
      "outputs": []
    },
    {
      "cell_type": "code",
      "metadata": {
        "id": "LmEHOIA2LNYz",
        "colab_type": "code",
        "colab": {}
      },
      "source": [
        "rnum = []\n",
        "for i in range(0,len(ra)):\n",
        "    rnum.append(remove_num(ra[i]))"
      ],
      "execution_count": 0,
      "outputs": []
    },
    {
      "cell_type": "code",
      "metadata": {
        "id": "J37R6vV2LN5x",
        "colab_type": "code",
        "colab": {}
      },
      "source": [
        "# Remove characters\n",
        "def remove_b1(sample):\n",
        "    return re.sub(r'\\(', ' ',sample)\n",
        "\n",
        "def remove_b2(sample):\n",
        "    return re.sub(r'\\)', ' ',sample)\n",
        "\n",
        "def remove_hy(sample):\n",
        "    return re.sub(r'\\-', ' ',sample)\n",
        "def remove_bl(sample):\n",
        "    return re.sub(r'\\/', ' ',sample)\n",
        "def atrate(sample) :\n",
        "    return re.sub(r'\\@', ' ',sample)\n",
        "def dollar(sample) :\n",
        "    return re.sub(r'\\$', ' ',sample)\n",
        "def percent(sample) :\n",
        "    return re.sub(r'\\%', ' ',sample)\n",
        "def pipe(sample) :\n",
        "    return re.sub(r'\\|', ' ',sample)\n",
        "def equal(sample):\n",
        "    return re.sub(r'\\=', ' ',sample)\n",
        "def under(sample) :\n",
        "    return re.sub(r'\\_', ' ',sample)\n",
        "def caret(sample) :\n",
        "    return re.sub(r'\\^','',sample)\n",
        "def spec(sample) :\n",
        "    return re.sub(r'[^\\w\\s]','', sample)\n",
        "def ws(sample):\n",
        "    return re.sub('\\s+',' ',sample)"
      ],
      "execution_count": 0,
      "outputs": []
    },
    {
      "cell_type": "code",
      "metadata": {
        "id": "34jPvlAkMHbE",
        "colab_type": "code",
        "colab": {}
      },
      "source": [
        "r99 = []\n",
        "for i in range(0,len(rnum)):\n",
        "    r99.append(ws(spec(remove_b1(remove_b2(remove_hy(remove_bl(atrate(dollar(percent(pipe(equal(under(caret(rnum[i]))))))))))))))"
      ],
      "execution_count": 0,
      "outputs": []
    },
    {
      "cell_type": "code",
      "metadata": {
        "id": "CBhiOqOmMVga",
        "colab_type": "code",
        "colab": {}
      },
      "source": [
        "r99  = list(filter(None, r99)) "
      ],
      "execution_count": 0,
      "outputs": []
    },
    {
      "cell_type": "code",
      "metadata": {
        "id": "D4CvKNq9MVar",
        "colab_type": "code",
        "outputId": "1c0ec1b7-b060-47d3-eb31-0e15d0ed0912",
        "colab": {
          "base_uri": "https://localhost:8080/",
          "height": 53
        }
      },
      "source": [
        "pip install langdetect"
      ],
      "execution_count": 0,
      "outputs": [
        {
          "output_type": "stream",
          "text": [
            "Requirement already satisfied: langdetect in /usr/local/lib/python3.6/dist-packages (1.0.7)\n",
            "Requirement already satisfied: six in /usr/local/lib/python3.6/dist-packages (from langdetect) (1.12.0)\n"
          ],
          "name": "stdout"
        }
      ]
    },
    {
      "cell_type": "code",
      "metadata": {
        "id": "PsnmgGIuMIDt",
        "colab_type": "code",
        "colab": {}
      },
      "source": [
        "# 10) Remove non-english tweets from the corpus\n",
        "r100 = []\n",
        "\n",
        "for i in range(0,len(r99)) :\n",
        "    r99[i]=r99[i].strip()\n",
        "for i in range(len(r99)):\n",
        "    if r99[i] != '' and detect(r99[i]) == 'en':\n",
        "        r100.append(r99[i])\n",
        "    "
      ],
      "execution_count": 0,
      "outputs": []
    },
    {
      "cell_type": "code",
      "metadata": {
        "id": "XdVw-3b6MIUN",
        "colab_type": "code",
        "colab": {}
      },
      "source": [
        ""
      ],
      "execution_count": 0,
      "outputs": []
    },
    {
      "cell_type": "code",
      "metadata": {
        "id": "lyH6jae_o1kK",
        "colab_type": "code",
        "colab": {}
      },
      "source": [
        ""
      ],
      "execution_count": 0,
      "outputs": []
    },
    {
      "cell_type": "code",
      "metadata": {
        "id": "1BIboKKjoXfj",
        "colab_type": "code",
        "colab": {}
      },
      "source": [
        "\n",
        "df = pd.DataFrame(r100, columns = ['Tweet'], index=None)\n",
        "pd.set_option('display.max_colwidth', 100000000000)"
      ],
      "execution_count": 0,
      "outputs": []
    },
    {
      "cell_type": "code",
      "metadata": {
        "id": "jDp1tJo2MJcJ",
        "colab_type": "code",
        "colab": {}
      },
      "source": [
        "import pickle\n",
        "with open('label.pkl', 'wb') as f:\n",
        "     pickle.dump(df, f)"
      ],
      "execution_count": 0,
      "outputs": []
    },
    {
      "cell_type": "code",
      "metadata": {
        "id": "2E2TIXwZqVCs",
        "colab_type": "code",
        "outputId": "a89072f6-6d55-43c5-88d7-bd2b3da6757d",
        "colab": {
          "base_uri": "https://localhost:8080/",
          "height": 35
        }
      },
      "source": [
        "df.shape"
      ],
      "execution_count": 0,
      "outputs": [
        {
          "output_type": "execute_result",
          "data": {
            "text/plain": [
              "(486063, 1)"
            ]
          },
          "metadata": {
            "tags": []
          },
          "execution_count": 117
        }
      ]
    },
    {
      "cell_type": "code",
      "metadata": {
        "id": "pVOFjoX-us8I",
        "colab_type": "code",
        "outputId": "92d21951-a43d-418e-d6ca-4341a7e92a24",
        "colab": {
          "base_uri": "https://localhost:8080/",
          "height": 504
        }
      },
      "source": [
        "df"
      ],
      "execution_count": 0,
      "outputs": [
        {
          "output_type": "execute_result",
          "data": {
            "text/html": [
              "<div>\n",
              "<style scoped>\n",
              "    .dataframe tbody tr th:only-of-type {\n",
              "        vertical-align: middle;\n",
              "    }\n",
              "\n",
              "    .dataframe tbody tr th {\n",
              "        vertical-align: top;\n",
              "    }\n",
              "\n",
              "    .dataframe thead th {\n",
              "        text-align: right;\n",
              "    }\n",
              "</style>\n",
              "<table border=\"1\" class=\"dataframe\">\n",
              "  <thead>\n",
              "    <tr style=\"text-align: right;\">\n",
              "      <th></th>\n",
              "      <th>Tweet</th>\n",
              "    </tr>\n",
              "  </thead>\n",
              "  <tbody>\n",
              "    <tr>\n",
              "      <th>0</th>\n",
              "      <td>hell yeah trump got impeached looks like he is finally out of office deletes tweet minutes later wow none of you know what impeachment means the senate still has to vote before he is removed from office go take a college course</td>\n",
              "    </tr>\n",
              "    <tr>\n",
              "      <th>1</th>\n",
              "      <td>breaking news trump is committing felony bribery by giving fundraising cash to gop senators ahead of impeachment trial this can not be ignored</td>\n",
              "    </tr>\n",
              "    <tr>\n",
              "      <th>2</th>\n",
              "      <td>help me here I am being sincere this is still your guy forget the news source forget that this part of a pattern forget the lies the bluster forget the impeachment stuff I am curious why you are still behind someone who consistently behaves like this help me</td>\n",
              "    </tr>\n",
              "    <tr>\n",
              "      <th>3</th>\n",
              "      <td>i hate to break the news to the resistance but you have zero leverage you can keep your partisan impeachment articles as long as you want senate will just keep confirming judges approving trade deals doing the peoples business</td>\n",
              "    </tr>\n",
              "    <tr>\n",
              "      <th>4</th>\n",
              "      <td>impeachment should not be a happy thing it should be a somber time this is sick and proves what the republicicans have been saying all along impeachment notmyimpeachment trump landslide</td>\n",
              "    </tr>\n",
              "    <tr>\n",
              "      <th>...</th>\n",
              "      <td>...</td>\n",
              "    </tr>\n",
              "    <tr>\n",
              "      <th>486058</th>\n",
              "      <td>you all help me out by following my beautiful wife of over years deb is back to support she does fo</td>\n",
              "    </tr>\n",
              "    <tr>\n",
              "      <th>486059</th>\n",
              "      <td>christianity today s editorial board decided to play judge jury on potus based on a partisan impeachment i do not al</td>\n",
              "    </tr>\n",
              "    <tr>\n",
              "      <th>486060</th>\n",
              "      <td>the fulani jihadist in nigeria financed hillary clinton against trump they failed then they sent a sudanese impostor robot</td>\n",
              "    </tr>\n",
              "    <tr>\n",
              "      <th>486061</th>\n",
              "      <td>in my view moscowmitch is a f ing ruble loving coward the sniveling baby would do anything to keep his little j</td>\n",
              "    </tr>\n",
              "    <tr>\n",
              "      <th>486062</th>\n",
              "      <td>megyn kelly says trump s impeachment trial is rigged in new documentary</td>\n",
              "    </tr>\n",
              "  </tbody>\n",
              "</table>\n",
              "<p>486063 rows × 1 columns</p>\n",
              "</div>"
            ],
            "text/plain": [
              "                                                                                                                                                                                                                                                                     Tweet\n",
              "0                                      hell yeah trump got impeached looks like he is finally out of office deletes tweet minutes later wow none of you know what impeachment means the senate still has to vote before he is removed from office go take a college course\n",
              "1                                                                                                                           breaking news trump is committing felony bribery by giving fundraising cash to gop senators ahead of impeachment trial this can not be ignored\n",
              "2       help me here I am being sincere this is still your guy forget the news source forget that this part of a pattern forget the lies the bluster forget the impeachment stuff I am curious why you are still behind someone who consistently behaves like this help me\n",
              "3                                       i hate to break the news to the resistance but you have zero leverage you can keep your partisan impeachment articles as long as you want senate will just keep confirming judges approving trade deals doing the peoples business\n",
              "4                                                                                impeachment should not be a happy thing it should be a somber time this is sick and proves what the republicicans have been saying all along impeachment notmyimpeachment trump landslide\n",
              "...                                                                                                                                                                                                                                                                    ...\n",
              "486058                                                                                                                                                                 you all help me out by following my beautiful wife of over years deb is back to support she does fo\n",
              "486059                                                                                                                                                christianity today s editorial board decided to play judge jury on potus based on a partisan impeachment i do not al\n",
              "486060                                                                                                                                          the fulani jihadist in nigeria financed hillary clinton against trump they failed then they sent a sudanese impostor robot\n",
              "486061                                                                                                                                                     in my view moscowmitch is a f ing ruble loving coward the sniveling baby would do anything to keep his little j\n",
              "486062                                                                                                                                                                                             megyn kelly says trump s impeachment trial is rigged in new documentary\n",
              "\n",
              "[486063 rows x 1 columns]"
            ]
          },
          "metadata": {
            "tags": []
          },
          "execution_count": 116
        }
      ]
    },
    {
      "cell_type": "code",
      "metadata": {
        "id": "-bdxYOHjutOx",
        "colab_type": "code",
        "colab": {}
      },
      "source": [
        ""
      ],
      "execution_count": 0,
      "outputs": []
    },
    {
      "cell_type": "code",
      "metadata": {
        "id": "byrH_OiiuteB",
        "colab_type": "code",
        "colab": {}
      },
      "source": [
        ""
      ],
      "execution_count": 0,
      "outputs": []
    },
    {
      "cell_type": "markdown",
      "metadata": {
        "id": "8J8vLXWi9o6o",
        "colab_type": "text"
      },
      "source": [
        ""
      ]
    }
  ]
}